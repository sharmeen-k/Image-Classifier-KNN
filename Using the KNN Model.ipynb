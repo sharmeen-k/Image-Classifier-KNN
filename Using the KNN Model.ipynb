{
 "cells": [
  {
   "cell_type": "markdown",
   "metadata": {},
   "source": [
    "## Using the model trained previously"
   ]
  },
  {
   "cell_type": "code",
   "execution_count": null,
   "metadata": {
    "tags": []
   },
   "outputs": [],
   "source": [
    "import numpy as np\n",
    "import matplotlib.pyplot as plt\n",
    "import cv2\n",
    "from skillsnetwork import cvstudio"
   ]
  },
  {
   "cell_type": "markdown",
   "metadata": {},
   "source": [
    "## Setting up CV Studio Client, getting the model and annotations"
   ]
  },
  {
   "cell_type": "code",
   "execution_count": null,
   "metadata": {
    "tags": []
   },
   "outputs": [],
   "source": [
    "studioclient = cvstudio.CVStudio()\n",
    "annotations = studioclient.get_annotations()\n",
    "model_details = studioclient.downloadModel()\n",
    "k_best = model_details['k_best']"
   ]
  },
  {
   "cell_type": "markdown",
   "metadata": {},
   "source": [
    "Load and re-train model:\n"
   ]
  },
  {
   "cell_type": "code",
   "execution_count": null,
   "metadata": {
    "tags": []
   },
   "outputs": [],
   "source": [
    "fs = cv2.FileStorage(model_details['filename'], cv2.FILE_STORAGE_READ)\n",
    "knnyml = fs.getNode('opencv_ml_knn')\n",
    "\n",
    "knnformat = knnyml.getNode('format').real()\n",
    "isclassifier = knnyml.getNode('is_classifier').real()\n",
    "default_k = knnyml.getNode('default_k').real()\n",
    "samples = knnyml.getNode('samples').mat()\n",
    "responses = knnyml.getNode('responses').mat()\n",
    "fs.release\n",
    "knn = cv2.ml.KNearest_create()\n",
    "knn.train(samples, cv2.ml.ROW_SAMPLE, responses)"
   ]
  },
  {
   "cell_type": "markdown",
   "metadata": {},
   "source": [
    "## Testing the Model with an Uploaded Image"
   ]
  },
  {
   "cell_type": "code",
   "execution_count": null,
   "metadata": {
    "tags": []
   },
   "outputs": [],
   "source": [
    "img = cv2.imread('cat.jpeg', cv2.IMREAD_GRAYSCALE)\n",
    "plt.imshow(img, cmap='gray')"
   ]
  },
  {
   "cell_type": "code",
   "execution_count": null,
   "metadata": {
    "tags": []
   },
   "outputs": [],
   "source": [
    "img = cv2.resize(img, (32,32))\n",
    "plt.imshow(img, cmap='gray')"
   ]
  },
  {
   "cell_type": "code",
   "execution_count": null,
   "metadata": {
    "tags": []
   },
   "outputs": [],
   "source": [
    "imgpixel = img.flatten()\n",
    "imgpixel = np.array([imgpixel]).astype('float32')"
   ]
  },
  {
   "cell_type": "markdown",
   "metadata": {},
   "source": [
    "Classify the image and print out the result of the model:\n"
   ]
  },
  {
   "cell_type": "code",
   "execution_count": null,
   "metadata": {
    "tags": []
   },
   "outputs": [],
   "source": [
    "ret, result, neighbours, dist = knn.findNearest(imgpixel, k=3)\n",
    "print(neighbours)\n",
    "print('Your image was classified as a', str(annotations['labels'][int(ret)]))"
   ]
  },
  {
   "cell_type": "markdown",
   "metadata": {},
   "source": [
    "When we print out the neigbours, it tells you the <code>k</code> closest classes and uses a majority voting process to pick what the image may be classified as."
   ]
  }
 ],
 "metadata": {
  "kernelspec": {
   "display_name": "Python",
   "language": "python",
   "name": "conda-env-python-py"
  },
  "language_info": {
   "codemirror_mode": {
    "name": "ipython",
    "version": 3
   },
   "file_extension": ".py",
   "mimetype": "text/x-python",
   "name": "python",
   "nbconvert_exporter": "python",
   "pygments_lexer": "ipython3",
   "version": "3.7.12"
  }
 },
 "nbformat": 4,
 "nbformat_minor": 4
}
